{
 "cells": [
  {
   "cell_type": "code",
   "execution_count": 3,
   "id": "d728e335",
   "metadata": {},
   "outputs": [],
   "source": [
    "import pandas as pd\n",
    "import numpy as np\n",
    "import matplotlib.pyplot as plt\n",
    "plt.rcParams['figure.figsize'] = (7.0, 5.0)"
   ]
  },
  {
   "cell_type": "code",
   "execution_count": 4,
   "id": "2469e594",
   "metadata": {},
   "outputs": [],
   "source": [
    "df = pd.read_csv('vaccdataset.csv')"
   ]
  },
  {
   "cell_type": "code",
   "execution_count": 20,
   "id": "7746131d",
   "metadata": {},
   "outputs": [
    {
     "data": {
      "text/html": [
       "<div>\n",
       "<style scoped>\n",
       "    .dataframe tbody tr th:only-of-type {\n",
       "        vertical-align: middle;\n",
       "    }\n",
       "\n",
       "    .dataframe tbody tr th {\n",
       "        vertical-align: top;\n",
       "    }\n",
       "\n",
       "    .dataframe thead th {\n",
       "        text-align: right;\n",
       "    }\n",
       "</style>\n",
       "<table border=\"1\" class=\"dataframe\">\n",
       "  <thead>\n",
       "    <tr style=\"text-align: right;\">\n",
       "      <th></th>\n",
       "      <th>42.19</th>\n",
       "      <th>35.06</th>\n",
       "      <th>-3.13</th>\n",
       "      <th>33.06</th>\n",
       "      <th>28.9</th>\n",
       "      <th>1</th>\n",
       "    </tr>\n",
       "  </thead>\n",
       "  <tbody>\n",
       "    <tr>\n",
       "      <th>count</th>\n",
       "      <td>253.000000</td>\n",
       "      <td>253.000000</td>\n",
       "      <td>253.000000</td>\n",
       "      <td>253.000000</td>\n",
       "      <td>253.000000</td>\n",
       "      <td>253.000000</td>\n",
       "    </tr>\n",
       "    <tr>\n",
       "      <th>mean</th>\n",
       "      <td>39.591344</td>\n",
       "      <td>34.972688</td>\n",
       "      <td>2.299170</td>\n",
       "      <td>24.794625</td>\n",
       "      <td>14.225296</td>\n",
       "      <td>31.726877</td>\n",
       "    </tr>\n",
       "    <tr>\n",
       "      <th>std</th>\n",
       "      <td>1.677435</td>\n",
       "      <td>0.889779</td>\n",
       "      <td>7.802006</td>\n",
       "      <td>4.897018</td>\n",
       "      <td>4.849242</td>\n",
       "      <td>13.285847</td>\n",
       "    </tr>\n",
       "    <tr>\n",
       "      <th>min</th>\n",
       "      <td>36.000000</td>\n",
       "      <td>33.560000</td>\n",
       "      <td>-18.190000</td>\n",
       "      <td>12.060000</td>\n",
       "      <td>7.200000</td>\n",
       "      <td>1.000000</td>\n",
       "    </tr>\n",
       "    <tr>\n",
       "      <th>25%</th>\n",
       "      <td>38.310000</td>\n",
       "      <td>34.060000</td>\n",
       "      <td>-3.690000</td>\n",
       "      <td>22.250000</td>\n",
       "      <td>8.800000</td>\n",
       "      <td>29.400000</td>\n",
       "    </tr>\n",
       "    <tr>\n",
       "      <th>50%</th>\n",
       "      <td>39.750000</td>\n",
       "      <td>35.060000</td>\n",
       "      <td>2.940000</td>\n",
       "      <td>25.690000</td>\n",
       "      <td>15.400000</td>\n",
       "      <td>35.400000</td>\n",
       "    </tr>\n",
       "    <tr>\n",
       "      <th>75%</th>\n",
       "      <td>41.060000</td>\n",
       "      <td>35.690000</td>\n",
       "      <td>8.630000</td>\n",
       "      <td>28.190000</td>\n",
       "      <td>17.000000</td>\n",
       "      <td>41.000000</td>\n",
       "    </tr>\n",
       "    <tr>\n",
       "      <th>max</th>\n",
       "      <td>42.630000</td>\n",
       "      <td>36.630000</td>\n",
       "      <td>15.190000</td>\n",
       "      <td>32.880000</td>\n",
       "      <td>28.400000</td>\n",
       "      <td>47.800000</td>\n",
       "    </tr>\n",
       "  </tbody>\n",
       "</table>\n",
       "</div>"
      ],
      "text/plain": [
       "            42.19       35.06       -3.13       33.06        28.9           1\n",
       "count  253.000000  253.000000  253.000000  253.000000  253.000000  253.000000\n",
       "mean    39.591344   34.972688    2.299170   24.794625   14.225296   31.726877\n",
       "std      1.677435    0.889779    7.802006    4.897018    4.849242   13.285847\n",
       "min     36.000000   33.560000  -18.190000   12.060000    7.200000    1.000000\n",
       "25%     38.310000   34.060000   -3.690000   22.250000    8.800000   29.400000\n",
       "50%     39.750000   35.060000    2.940000   25.690000   15.400000   35.400000\n",
       "75%     41.060000   35.690000    8.630000   28.190000   17.000000   41.000000\n",
       "max     42.630000   36.630000   15.190000   32.880000   28.400000   47.800000"
      ]
     },
     "execution_count": 20,
     "metadata": {},
     "output_type": "execute_result"
    }
   ],
   "source": [
    "df.describe()"
   ]
  },
  {
   "cell_type": "code",
   "execution_count": 6,
   "id": "6df80b8d",
   "metadata": {},
   "outputs": [],
   "source": [
    "X = np.array(df.iloc[:100,1]).reshape(-1, 1)\n",
    "y = np.array(df.iloc[:100,5]).reshape(-1,1)"
   ]
  },
  {
   "cell_type": "code",
   "execution_count": 7,
   "id": "89c1ae8e",
   "metadata": {},
   "outputs": [],
   "source": [
    "from sklearn.model_selection import train_test_split"
   ]
  },
  {
   "cell_type": "code",
   "execution_count": 8,
   "id": "c14db8cc",
   "metadata": {},
   "outputs": [],
   "source": [
    "X_train, X_test, y_train, y_test = train_test_split(X, y, test_size=0.2, random_state=34)"
   ]
  },
  {
   "cell_type": "code",
   "execution_count": 9,
   "id": "43fe778c",
   "metadata": {},
   "outputs": [],
   "source": [
    "from sklearn.linear_model import LinearRegression"
   ]
  },
  {
   "cell_type": "code",
   "execution_count": 10,
   "id": "7b920c58",
   "metadata": {},
   "outputs": [],
   "source": [
    "lm = LinearRegression()"
   ]
  },
  {
   "cell_type": "code",
   "execution_count": 11,
   "id": "94e526c4",
   "metadata": {},
   "outputs": [
    {
     "data": {
      "text/plain": [
       "LinearRegression()"
      ]
     },
     "execution_count": 11,
     "metadata": {},
     "output_type": "execute_result"
    }
   ],
   "source": [
    "lm.fit(X_train,y_train)"
   ]
  },
  {
   "cell_type": "code",
   "execution_count": 12,
   "id": "a494964b",
   "metadata": {},
   "outputs": [],
   "source": [
    "predictions = lm.predict(X_test)"
   ]
  },
  {
   "cell_type": "code",
   "execution_count": 13,
   "id": "88a871d0",
   "metadata": {},
   "outputs": [
    {
     "name": "stdout",
     "output_type": "stream",
     "text": [
      "[[19.20693987]\n",
      " [19.15059865]\n",
      " [19.06139172]\n",
      " [19.32431741]\n",
      " [17.361765  ]\n",
      " [18.56371097]\n",
      " [18.68108851]\n",
      " [19.17876926]\n",
      " [19.20693987]\n",
      " [19.00505051]\n",
      " [19.47456065]\n",
      " [18.94401419]\n",
      " [18.9721848 ]\n",
      " [16.94859607]\n",
      " [19.23980558]\n",
      " [18.26791958]\n",
      " [18.03316451]\n",
      " [18.06603022]\n",
      " [17.85944575]\n",
      " [19.2961468 ]]\n"
     ]
    }
   ],
   "source": [
    "print(predictions)"
   ]
  },
  {
   "cell_type": "code",
   "execution_count": 15,
   "id": "9805da15",
   "metadata": {},
   "outputs": [
    {
     "data": {
      "image/png": "[encoded data removed]",
      "text/plain": [
       "<Figure size 700x500 with 1 Axes>"
      ]
     },
     "metadata": {},
     "output_type": "display_data"
    }
   ],
   "source": [
    "plt.scatter(X, y)\n",
    "plt.plot([min(X), max(X)], [min(predictions), max(predictions)], color='green') \n",
    "plt.show()"
   ]
  },
  {
   "cell_type": "code",
   "execution_count": 16,
   "id": "440b7d45",
   "metadata": {},
   "outputs": [
    {
     "name": "stdout",
     "output_type": "stream",
     "text": [
      "[-0.18852425]\n"
     ]
    }
   ],
   "source": [
    "print(lm.intercept_)"
   ]
  },
  {
   "cell_type": "code",
   "execution_count": 17,
   "id": "3ca3a3f2",
   "metadata": {},
   "outputs": [
    {
     "name": "stdout",
     "output_type": "stream",
     "text": [
      "[[0.46951015]]\n"
     ]
    }
   ],
   "source": [
    "print(lm.coef_)"
   ]
  },
  {
   "cell_type": "code",
   "execution_count": 18,
   "id": "c9edbe14",
   "metadata": {},
   "outputs": [],
   "source": [
    "from sklearn import metrics"
   ]
  },
  {
   "cell_type": "code",
   "execution_count": 19,
   "id": "b606f8bb",
   "metadata": {},
   "outputs": [
    {
     "name": "stdout",
     "output_type": "stream",
     "text": [
      "MAE: 2.2571671059916207\n",
      "MSE: 6.922541087557178\n",
      "RMSE: 2.6310722315354966\n"
     ]
    }
   ],
   "source": [
    "print('MAE:', metrics.mean_absolute_error(y_test, predictions))\n",
    "print('MSE:', metrics.mean_squared_error(y_test, predictions))\n",
    "print('RMSE:', np.sqrt(metrics.mean_squared_error(y_test, predictions)))"
   ]
  },
  {
   "cell_type": "code",
   "execution_count": 6,
   "id": "1053f6d2",
   "metadata": {},
   "outputs": [],
   "source": [
    "# import the library\n",
    "import seaborn as sns\n"
   ]
  },
  {
   "cell_type": "code",
   "execution_count": null,
   "id": "0d21ae55",
   "metadata": {},
   "outputs": [],
   "source": []
  }
 ],
 "metadata": {
  "kernelspec": {
   "display_name": "Python 3 (ipykernel)",
   "language": "python",
   "name": "python3"
  },
  "language_info": {
   "codemirror_mode": {
    "name": "ipython",
    "version": 3
   },
   "file_extension": ".py",
   "mimetype": "text/x-python",
   "name": "python",
   "nbconvert_exporter": "python",
   "pygments_lexer": "ipython3",
   "version": "3.9.13"
  }
 },
 "nbformat": 4,
 "nbformat_minor": 5
}
